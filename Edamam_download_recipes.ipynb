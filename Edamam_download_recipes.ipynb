{
 "cells": [
  {
   "cell_type": "markdown",
   "metadata": {},
   "source": [
    "# Downloading Recipe Database from EDAMAM"
   ]
  },
  {
   "cell_type": "markdown",
   "metadata": {},
   "source": [
    "Using our credentials to get recipe base"
   ]
  },
  {
   "cell_type": "code",
   "execution_count": null,
   "metadata": {},
   "outputs": [],
   "source": [
    "from py_edamam import PyEdamam\n",
    "import pandas as pd\n",
    "\n",
    "e = PyEdamam(recipes_appid='3111de14',\n",
    "           recipes_appkey='89bad7648b3b6ca6c18312f41bc1cfcf',\n",
    "            food_appid=\"07d50733\",\n",
    "                 food_appkey=\"80fcb49b500737827a9a23f7049653b9\")"
   ]
  },
  {
   "cell_type": "markdown",
   "metadata": {},
   "source": [
    "Defining the list of queries to go through and export (note there is a limit on the export hence I break the list in 11 sets)"
   ]
  },
  {
   "cell_type": "code",
   "execution_count": 75,
   "metadata": {},
   "outputs": [],
   "source": [
    "list_queries = [\"pasta\",\"pizza\",\"lasagne\",\"soup\",\"salad\",\"beef\",\"ground beef\",\"chicken\",\"chicken breast\",\"pork\",\"pork chop\",\"lamb\",\"fish\",\"schrimps\",\"rice\",\"quinoa\",\"brocoli\",\"tomatoes\",\"pies\",\"vegetarian\",\"sweet potato\",\"avocado\",\"italian\",\"mexican\",\"tacos\",\"quesadilla\",\"british\",\"japanese\",\"vegan\",\"dairy free\",\"gluten free\",\"low carb\",\"high protein\",\"bake\",\"roast\",\"grilled\"]"
   ]
  },
  {
   "cell_type": "code",
   "execution_count": 12,
   "metadata": {},
   "outputs": [],
   "source": [
    "list_query_1 = [\"pasta\",\"pizza\",\"lasagne\",\"soup\",\"salad\"]\n",
    "list_query_2 = [\"beef\",\"ground beef\",\"chicken\",\"chicken breast\",\"pork\"]\n",
    "list_query_3 = [\"pork chop\",\"lamb\",\"fish\",\"schrimps\",\"rice\"]\n",
    "list_query_4 = [\"quinoa\",\"brocoli\",\"tomatoes\",\"pies\",\"vegetarian\"]\n",
    "list_query_5 = [\"sweet potato\",\"avocado\",\"italian\",\"mexican\",\"tacos\"]\n",
    "list_query_6 = [\"quesadilla\",\"british\",\"japanese\",\"vegan\"]\n",
    "list_query_7 = [\"dairy free\",\"gluten free\",\"low carb\",\"high protein\"]\n",
    "list_query_8 = [\"bake\",\"roast\",\"grilled\"]\n",
    "list_query_9 = [\"risotto\",\"burger\",\"cajun\",\"shepperd pie\", \"carrot\"]\n",
    "list_query_10 = [\"sushi\",\"salmon\",\"seabass\",\"trout\"]\n",
    "list_query_11 = [\"tofu\",\"chickpea\",\"lentil\",\"dahl\"]"
   ]
  },
  {
   "cell_type": "code",
   "execution_count": 52,
   "metadata": {},
   "outputs": [],
   "source": [
    "list_queries = [list_query_1,list_query_2,list_query_3,list_query_4,list_query_5,list_query_6,list_query_7,list_query_8]"
   ]
  },
  {
   "cell_type": "markdown",
   "metadata": {},
   "source": [
    "Exporting list of recipes and ingredient names as well as another file with weights included. Additionnally we print the nutrional values for each recipes."
   ]
  },
  {
   "cell_type": "code",
   "execution_count": 13,
   "metadata": {},
   "outputs": [
    {
     "name": "stdout",
     "output_type": "stream",
     "text": [
      "tofu\n",
      "chickpea\n",
      "lentil\n",
      "dahl\n"
     ]
    }
   ],
   "source": [
    "df_ingredient = pd.DataFrame()\n",
    "df_ingredient_weight = pd.DataFrame()\n",
    "df_nutrient=pd.DataFrame(columns=[\"nutrient_list\",\"Nutrient_notclean\",\"tmp\",\"Value\",\"Unit\",\"Nutrient\",\"recipe\"])\n",
    "for query in list_query_11:\n",
    "    print(query)\n",
    "    for recipe in e.search_recipe(query):   #go through the list of all recipes\n",
    "        #getting all the ingredient names\n",
    "        dfitmp = pd.DataFrame(data = recipe.ingredient_names)\n",
    "        dfitmp=dfitmp.T\n",
    "        dfitmp.insert(0,\"recipe\",str(recipe))\n",
    "        dfitmp.insert(0,\"query\",str(query))\n",
    "        df_ingredient=df_ingredient.append(dfitmp)\n",
    "        #getting all the ingredient names and weights\n",
    "        dfiqtmp=pd.DataFrame(data = recipe.ingredient_quantities)\n",
    "        dfiqtmp = dfiqtmp.iloc[:, 0:2]\n",
    "        dfiqtmp=dfiqtmp.T\n",
    "        dfiqtmp.insert(0,\"recipe\",str(recipe))\n",
    "        dfiqtmp.insert(0,\"query\",str(query))\n",
    "        df_ingredient_weight=df_ingredient_weight.append(dfiqtmp)\n",
    "        #getting all nutrients\n",
    "        Nutrients=recipe.totalNutrients\n",
    "        NutrientsList =[]\n",
    "        recipe_name = recipe\n",
    "        for n in Nutrients:                                             #for each recipe go through all nutrients\n",
    "            NutrientsList+=[str(n)]                                     #transforming Nutrient type into a string\n",
    "        dfntmp = pd.DataFrame(data = NutrientsList, columns=[\"nutrient_list\"])      #creating df from the list of nutrients\n",
    "        dfntmp[[\"Nutrient_notclean\",\"tmp\"]]=dfntmp.nutrient_list.str.split(\"*\",expand=True)      #splitting name and measurement using '*' also to avoid issues with Vitamins\n",
    "        dfntmp[[\"Value\",\"Unit\"]]=dfntmp.tmp.str.split(expand=True)                   #splitting measurement into value and unit\n",
    "        Nutrients2 =[]                                                       #creating a new list to remove space at the end of the nutrients\n",
    "        for n in dfntmp.Nutrient_notclean:\n",
    "            Nutrients2+=[n.strip()]\n",
    "        dfntmp[\"Nutrient\"]=Nutrients2                                            #adding this column to df\n",
    "        dfntmp[\"recipe\"]=str(recipe_name)                                            #adding column with recipe name\n",
    "        dfntmp[\"Value\"]=dfntmp[\"Value\"].astype(float)                                #converting Value for string to flaot to be able to do pivot\n",
    "        df_nutrient=df_nutrient.append(dfntmp)\n",
    "    \n",
    "df_pivot_nutrient=df_nutrient.pivot_table('Value', 'recipe', 'Nutrient')"
   ]
  },
  {
   "cell_type": "code",
   "execution_count": 14,
   "metadata": {},
   "outputs": [],
   "source": [
    "df_ingredient.to_csv(path_or_buf='C:/Users/flori/Documents/Master/LSE/Dissertation/Python/recipe_ingredients_list_query_11.csv', index=True)\n",
    "df_ingredient_weight.to_csv(path_or_buf='C:/Users/flori/Documents/Master/LSE/Dissertation/Python/recipe_ingredients_weights_list_query_11.csv', index=True)\n",
    "df_pivot_nutrient.to_csv(path_or_buf='C:/Users/flori/Documents/Master/LSE/Dissertation/Python/recipe_nutrients_list_query_11.csv', index=True)"
   ]
  },
  {
   "cell_type": "markdown",
   "metadata": {},
   "source": [
    "Combining all csv files into one"
   ]
  },
  {
   "cell_type": "code",
   "execution_count": 88,
   "metadata": {},
   "outputs": [],
   "source": [
    "import os\n",
    "import glob\n",
    "os.chdir(\"C:/Users/flori/Documents/Master/LSE/Dissertation/Python/Recipes/\")"
   ]
  },
  {
   "cell_type": "code",
   "execution_count": 89,
   "metadata": {},
   "outputs": [],
   "source": [
    "extension = 'csv'\n",
    "all_filenames_ingredients = [i for i in glob.glob('recipe_ingredients_list_*.{}'.format(extension))]\n",
    "all_filenames_ingredients_weights = [i for i in glob.glob('recipe_ingredients_weights_*.{}'.format(extension))]\n",
    "all_filenames_nutrients = [i for i in glob.glob('recipe_nutrients_*.{}'.format(extension))]"
   ]
  },
  {
   "cell_type": "code",
   "execution_count": 96,
   "metadata": {},
   "outputs": [],
   "source": [
    "combined_csv_ingredients = pd.concat([pd.read_csv(f) for f in all_filenames_ingredients ],sort=False)\n",
    "combined_csv_ingredients_weights = pd.concat([pd.read_csv(f) for f in all_filenames_ingredients_weights ],sort=False)\n",
    "combined_csv_nutrients = pd.concat([pd.read_csv(f) for f in all_filenames_nutrients ],sort=False)\n",
    "#export to csv\n",
    "combined_csv_ingredients.to_csv( \"recipe_ingredients.csv\", index=False, encoding='utf-8-sig')\n",
    "combined_csv_ingredients_weights.to_csv( \"recipe_ingredients_weights.csv\", index=False, encoding='utf-8-sig')\n",
    "combined_csv_nutrients.to_csv( \"recipe_nutrients.csv\", index=False, encoding='utf-8-sig')"
   ]
  },
  {
   "cell_type": "markdown",
   "metadata": {},
   "source": [
    "I need the servings for all recipes to adjust for individuals (run belowcommand for all 11 data sets)"
   ]
  },
  {
   "cell_type": "code",
   "execution_count": 16,
   "metadata": {},
   "outputs": [
    {
     "name": "stdout",
     "output_type": "stream",
     "text": [
      "tofu\n",
      "chickpea\n",
      "lentil\n",
      "dahl\n"
     ]
    }
   ],
   "source": [
    "df_urls = pd.DataFrame()\n",
    "for query in list_query_11:\n",
    "    print(query)\n",
    "    for recipe in e.search_recipe(query): \n",
    "        dfutmp = pd.DataFrame(data = [query,recipe,recipe.url])\n",
    "        dfutmp = dfutmp.T\n",
    "        df_urls = df_urls.append(dfutmp)\n",
    "        \n",
    "df_urls.to_csv(path_or_buf='C:/Users/flori/Documents/Master/LSE/Dissertation/Python/recipe_urls_list_query_11.csv', index=True)"
   ]
  },
  {
   "cell_type": "code",
   "execution_count": 120,
   "metadata": {},
   "outputs": [],
   "source": [
    "extension = 'csv'\n",
    "all_filenames_urls = [i for i in glob.glob('recipe_urls_*.{}'.format(extension))]\n",
    "combined_csv_urls = pd.concat([pd.read_csv(f) for f in all_filenames_urls ],sort=False)\n",
    "combined_csv_urls.to_csv( \"recipe_urls.csv\", index=False, encoding='utf-8-sig')"
   ]
  }
 ],
 "metadata": {
  "kernelspec": {
   "display_name": "Python 3",
   "language": "python",
   "name": "python3"
  },
  "language_info": {
   "codemirror_mode": {
    "name": "ipython",
    "version": 3
   },
   "file_extension": ".py",
   "mimetype": "text/x-python",
   "name": "python",
   "nbconvert_exporter": "python",
   "pygments_lexer": "ipython3",
   "version": "3.8.3"
  }
 },
 "nbformat": 4,
 "nbformat_minor": 4
}
