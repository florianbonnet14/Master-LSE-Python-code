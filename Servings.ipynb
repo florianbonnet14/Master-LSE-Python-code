{
 "cells": [
  {
   "cell_type": "markdown",
   "metadata": {},
   "source": [
    "# Counting Servings"
   ]
  },
  {
   "cell_type": "markdown",
   "metadata": {},
   "source": [
    "We need for each recipe count the number of servings per food groups to be able to compute certain part of the DQI-I."
   ]
  },
  {
   "cell_type": "code",
   "execution_count": 1,
   "metadata": {},
   "outputs": [],
   "source": [
    "import pandas as pd\n",
    "import numpy as np"
   ]
  },
  {
   "cell_type": "markdown",
   "metadata": {},
   "source": [
    "Identifying certain ingredients in the whole lists"
   ]
  },
  {
   "cell_type": "code",
   "execution_count": 54,
   "metadata": {},
   "outputs": [],
   "source": [
    "data = pd.read_csv('./Recipes/recipe_ingredients.csv') "
   ]
  },
  {
   "cell_type": "code",
   "execution_count": 12,
   "metadata": {},
   "outputs": [],
   "source": [
    "meat = [\"beef\",\"pork\",\"lamb\"]\n",
    "poultry = [\"chicken\",\"turkey\"]\n",
    "fish = [\"fish\",\"seabass\",\"bass\",\"salmon\",\"tuna\",\"shrimp\"]\n",
    "egg = [\"egg\"]\n",
    "milk = [\"milk\",\"yogurt\",\"cream\"]\n",
    "cheese = [\"cheese\",\"mozzarella\",\"parmigiano\",\"parmesan\"]\n",
    "cottage = [\"cottage cheese\"]\n",
    "beans_pulses = [\"beans\",\"chickpea\",\"lentil\",\"tofu\"]\n",
    "grains = [\"buckwheat\",\"quinoa\",\"oat\",\"polenta\",\"couscous\",\"bulgur\"]"
   ]
  },
  {
   "cell_type": "code",
   "execution_count": 7,
   "metadata": {},
   "outputs": [],
   "source": [
    "foods = meat+poultry+fish+egg+milk+cheeze+cottage+beans_pulses+grains"
   ]
  },
  {
   "cell_type": "markdown",
   "metadata": {},
   "source": [
    "# Simple list for index match later on"
   ]
  },
  {
   "cell_type": "markdown",
   "metadata": {},
   "source": [
    "goal is to have 1 column recipe and 1 column ingredients, then do a simlpe parsing of each row and then adjust manually"
   ]
  },
  {
   "cell_type": "code",
   "execution_count": 2,
   "metadata": {},
   "outputs": [],
   "source": [
    "data = pd.read_csv('./Recipes/ExcelFiles_distributions/recipe_ingredients.csv') "
   ]
  },
  {
   "cell_type": "code",
   "execution_count": 3,
   "metadata": {},
   "outputs": [],
   "source": [
    "Flatten = pd.DataFrame()\n",
    "for r in test.index:\n",
    "    tmp = data.loc[r].T                             #Take the r row and transpose\n",
    "    tmp1 = {'ingredient': tmp.drop([\"Unnamed: 0\",\"query\",\"recipe\"]).dropna()}     # keeping only the ingredient column and making a frame for futur append\n",
    "    tmp2 = pd.DataFrame( data = tmp1)\n",
    "    tmp2.insert(0,\"recipe\",str(tmp.recipe))                       #inserting recipe name\n",
    "    tmp2.insert(0,\"query\",str(tmp.query))                         #inserting query name\n",
    "    tmp2.insert(0,\"ingr_index\",tmp2.index)\n",
    "    Flatten = Flatten.append(tmp2)\n",
    "Flatten = Flatten.reset_index()                   # Otherwise index has multiple times the sames values which screw up the rest"
   ]
  },
  {
   "cell_type": "code",
   "execution_count": 4,
   "metadata": {},
   "outputs": [
    {
     "data": {
      "text/html": [
       "<div>\n",
       "<style scoped>\n",
       "    .dataframe tbody tr th:only-of-type {\n",
       "        vertical-align: middle;\n",
       "    }\n",
       "\n",
       "    .dataframe tbody tr th {\n",
       "        vertical-align: top;\n",
       "    }\n",
       "\n",
       "    .dataframe thead th {\n",
       "        text-align: right;\n",
       "    }\n",
       "</style>\n",
       "<table border=\"1\" class=\"dataframe\">\n",
       "  <thead>\n",
       "    <tr style=\"text-align: right;\">\n",
       "      <th></th>\n",
       "      <th>index</th>\n",
       "      <th>ingr_index</th>\n",
       "      <th>query</th>\n",
       "      <th>recipe</th>\n",
       "      <th>ingredient</th>\n",
       "    </tr>\n",
       "  </thead>\n",
       "  <tbody>\n",
       "    <tr>\n",
       "      <th>0</th>\n",
       "      <td>0</td>\n",
       "      <td>0</td>\n",
       "      <td>pasta</td>\n",
       "      <td>Pasta Frittata Recipe</td>\n",
       "      <td>2 cups leftover pasta</td>\n",
       "    </tr>\n",
       "    <tr>\n",
       "      <th>1</th>\n",
       "      <td>1</td>\n",
       "      <td>1</td>\n",
       "      <td>pasta</td>\n",
       "      <td>Pasta Frittata Recipe</td>\n",
       "      <td>4 eggs beaten</td>\n",
       "    </tr>\n",
       "    <tr>\n",
       "      <th>2</th>\n",
       "      <td>2</td>\n",
       "      <td>2</td>\n",
       "      <td>pasta</td>\n",
       "      <td>Pasta Frittata Recipe</td>\n",
       "      <td>2 tablespoons butter</td>\n",
       "    </tr>\n",
       "    <tr>\n",
       "      <th>3</th>\n",
       "      <td>3</td>\n",
       "      <td>3</td>\n",
       "      <td>pasta</td>\n",
       "      <td>Pasta Frittata Recipe</td>\n",
       "      <td>1/2 cup whichever cheese the pasta called for</td>\n",
       "    </tr>\n",
       "    <tr>\n",
       "      <th>4</th>\n",
       "      <td>0</td>\n",
       "      <td>0</td>\n",
       "      <td>pasta</td>\n",
       "      <td>Kimchi Pasta</td>\n",
       "      <td>2 Tbs olive oil</td>\n",
       "    </tr>\n",
       "    <tr>\n",
       "      <th>...</th>\n",
       "      <td>...</td>\n",
       "      <td>...</td>\n",
       "      <td>...</td>\n",
       "      <td>...</td>\n",
       "      <td>...</td>\n",
       "    </tr>\n",
       "    <tr>\n",
       "      <th>3754</th>\n",
       "      <td>5</td>\n",
       "      <td>5</td>\n",
       "      <td>dahl</td>\n",
       "      <td>Broccoli Tarka Dahl recipes</td>\n",
       "      <td>Â½ tsp salt</td>\n",
       "    </tr>\n",
       "    <tr>\n",
       "      <th>3755</th>\n",
       "      <td>6</td>\n",
       "      <td>6</td>\n",
       "      <td>dahl</td>\n",
       "      <td>Broccoli Tarka Dahl recipes</td>\n",
       "      <td>Â¾ tsp tumeric</td>\n",
       "    </tr>\n",
       "    <tr>\n",
       "      <th>3756</th>\n",
       "      <td>7</td>\n",
       "      <td>7</td>\n",
       "      <td>dahl</td>\n",
       "      <td>Broccoli Tarka Dahl recipes</td>\n",
       "      <td>Â¼ tsp + 1 tbsp cumin seeds</td>\n",
       "    </tr>\n",
       "    <tr>\n",
       "      <th>3757</th>\n",
       "      <td>8</td>\n",
       "      <td>8</td>\n",
       "      <td>dahl</td>\n",
       "      <td>Broccoli Tarka Dahl recipes</td>\n",
       "      <td>2 tbsp vegetable oil</td>\n",
       "    </tr>\n",
       "    <tr>\n",
       "      <th>3758</th>\n",
       "      <td>9</td>\n",
       "      <td>9</td>\n",
       "      <td>dahl</td>\n",
       "      <td>Broccoli Tarka Dahl recipes</td>\n",
       "      <td>Head of broccoli, broken into florets</td>\n",
       "    </tr>\n",
       "  </tbody>\n",
       "</table>\n",
       "<p>3759 rows × 5 columns</p>\n",
       "</div>"
      ],
      "text/plain": [
       "     index ingr_index  query                       recipe  \\\n",
       "0        0          0  pasta        Pasta Frittata Recipe   \n",
       "1        1          1  pasta        Pasta Frittata Recipe   \n",
       "2        2          2  pasta        Pasta Frittata Recipe   \n",
       "3        3          3  pasta        Pasta Frittata Recipe   \n",
       "4        0          0  pasta                 Kimchi Pasta   \n",
       "...    ...        ...    ...                          ...   \n",
       "3754     5          5   dahl  Broccoli Tarka Dahl recipes   \n",
       "3755     6          6   dahl  Broccoli Tarka Dahl recipes   \n",
       "3756     7          7   dahl  Broccoli Tarka Dahl recipes   \n",
       "3757     8          8   dahl  Broccoli Tarka Dahl recipes   \n",
       "3758     9          9   dahl  Broccoli Tarka Dahl recipes   \n",
       "\n",
       "                                         ingredient  \n",
       "0                             2 cups leftover pasta  \n",
       "1                                     4 eggs beaten  \n",
       "2                              2 tablespoons butter  \n",
       "3     1/2 cup whichever cheese the pasta called for  \n",
       "4                                   2 Tbs olive oil  \n",
       "...                                             ...  \n",
       "3754                                    Â½ tsp salt  \n",
       "3755                                 Â¾ tsp tumeric  \n",
       "3756                    Â¼ tsp + 1 tbsp cumin seeds  \n",
       "3757                           2 tbsp vegetable oil  \n",
       "3758          Head of broccoli, broken into florets  \n",
       "\n",
       "[3759 rows x 5 columns]"
      ]
     },
     "execution_count": 4,
     "metadata": {},
     "output_type": "execute_result"
    }
   ],
   "source": [
    "Flatten1 = Flatten\n",
    "Flatten1"
   ]
  },
  {
   "cell_type": "code",
   "execution_count": 9,
   "metadata": {},
   "outputs": [
    {
     "name": "stdout",
     "output_type": "stream",
     "text": [
      "beef\n",
      "pork\n",
      "lamb\n",
      "chicken\n",
      "turkey\n",
      "fish\n",
      "seabass\n",
      "bass\n",
      "salmon\n",
      "tuna\n",
      "shrimp\n",
      "egg\n",
      "milk\n",
      "yogurt\n",
      "cream\n",
      "cheeze\n",
      "mozzarella\n",
      "parmigiano\n",
      "parmesan\n",
      "cottage cheese\n",
      "beans\n",
      "chickpea\n",
      "lentil\n",
      "tofu\n",
      "buckwheat\n",
      "quinoa\n",
      "oat\n",
      "polenta\n",
      "couscous\n",
      "bulgur\n"
     ]
    }
   ],
   "source": [
    "for f in foods:\n",
    "    print(f)\n",
    "    listtmp = list()\n",
    "    for i in Flatten.index:\n",
    "        tmp1 = Flatten.loc[i].str.contains(f).ingredient\n",
    "        tmp1 *= 1\n",
    "        listtmp.append(tmp1)\n",
    "    tmp=pd.DataFrame(data = listtmp)\n",
    "    tmp=tmp.rename(columns = {0: f})\n",
    "    Flatten.insert(0,f,tmp)"
   ]
  },
  {
   "cell_type": "code",
   "execution_count": 10,
   "metadata": {},
   "outputs": [],
   "source": [
    "Flatten.to_csv('./Recipes/ExcelFiles_distributions/recipes_ingredients_flattened.csv')"
   ]
  },
  {
   "cell_type": "markdown",
   "metadata": {},
   "source": [
    "# Getting same list but with grams"
   ]
  },
  {
   "cell_type": "code",
   "execution_count": 14,
   "metadata": {},
   "outputs": [],
   "source": [
    "data = pd.read_csv('./Recipes/ExcelFiles_distributions/recipe_ingredients_weights.csv') "
   ]
  },
  {
   "cell_type": "code",
   "execution_count": 36,
   "metadata": {},
   "outputs": [],
   "source": [
    "Flatten_bis = pd.DataFrame()\n",
    "for r in data.index:\n",
    "    if(r % 2) == 0:\n",
    "        tmp1 = data.loc[r].T\n",
    "        tmp2 = data.loc[r+1].T\n",
    "        tmp11 = {'ingredient': tmp1.drop([\"Unnamed: 0\",\"query\",\"recipe\"]).dropna()}\n",
    "        tmp22 = {'weight': tmp2.drop([\"Unnamed: 0\",\"query\",\"recipe\"]).dropna()}\n",
    "        tmp111 = pd.DataFrame( data = tmp11)\n",
    "        tmp222 = pd.DataFrame( data = tmp22)\n",
    "        tmp111.insert(0,\"recipe\",str(tmp1.recipe))                       \n",
    "        tmp111.insert(0,\"query\",str(tmp1.query))                        \n",
    "        tmp111.insert(0,\"ingr_index\",tmp111.index)\n",
    "        tmp222.insert(0,\"recipe\",str(tmp2.recipe))                       \n",
    "        tmp222.insert(0,\"query\",str(tmp2.query))                        \n",
    "        tmp222.insert(0,\"ingr_index\",tmp222.index)\n",
    "        tmp111.insert(4,\"weight\",tmp222.weight)\n",
    "        Flatten_bis = Flatten_bis.append(tmp111)\n",
    "    else:\n",
    "        None\n",
    "Flatten_bis = Flatten_bis.reset_index()                   # Otherwise index has multiple times the sames values which screw up the rest"
   ]
  },
  {
   "cell_type": "code",
   "execution_count": 38,
   "metadata": {},
   "outputs": [],
   "source": [
    "Flatten_bis.to_csv('./Recipes/ExcelFiles_distributions/recipes_ingredients_weights_flattened.csv')"
   ]
  }
 ],
 "metadata": {
  "kernelspec": {
   "display_name": "Python 3",
   "language": "python",
   "name": "python3"
  },
  "language_info": {
   "codemirror_mode": {
    "name": "ipython",
    "version": 3
   },
   "file_extension": ".py",
   "mimetype": "text/x-python",
   "name": "python",
   "nbconvert_exporter": "python",
   "pygments_lexer": "ipython3",
   "version": "3.8.3"
  }
 },
 "nbformat": 4,
 "nbformat_minor": 4
}
